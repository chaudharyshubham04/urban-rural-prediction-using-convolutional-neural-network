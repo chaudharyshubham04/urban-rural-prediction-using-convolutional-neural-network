{
 "cells": [
  {
   "cell_type": "code",
   "execution_count": 1,
   "metadata": {},
   "outputs": [],
   "source": [
    "import numpy as np\n",
    "import pandas as pd\n",
    "import matplotlib.pyplot as plt\n",
    "%matplotlib inline"
   ]
  },
  {
   "cell_type": "code",
   "execution_count": 2,
   "metadata": {},
   "outputs": [],
   "source": [
    "from tensorflow import keras"
   ]
  },
  {
   "cell_type": "code",
   "execution_count": 3,
   "metadata": {},
   "outputs": [],
   "source": [
    "from keras.preprocessing.image import ImageDataGenerator"
   ]
  },
  {
   "cell_type": "code",
   "execution_count": 4,
   "metadata": {},
   "outputs": [
    {
     "name": "stdout",
     "output_type": "stream",
     "text": [
      "Found 72 images belonging to 2 classes.\n",
      "Found 20 images belonging to 2 classes.\n"
     ]
    }
   ],
   "source": [
    "train_datagen = ImageDataGenerator(\n",
    "rescale=1./255,\n",
    "shear_range=0.2,\n",
    "zoom_range=0.2,\n",
    "horizontal_flip=True)\n",
    "test_datagen = ImageDataGenerator(rescale=1./255)\n",
    "train_generator = train_datagen.flow_from_directory(\n",
    "'rural_and_urban_photos/train',\n",
    "target_size=(150, 150),\n",
    "batch_size=32,\n",
    "class_mode='binary')\n",
    "validation_generator = test_datagen.flow_from_directory(\n",
    "'rural_and_urban_photos/val',\n",
    "target_size=(150, 150),\n",
    "batch_size=32,\n",
    "class_mode='binary')"
   ]
  },
  {
   "cell_type": "code",
   "execution_count": 8,
   "metadata": {},
   "outputs": [],
   "source": [
    "model=keras.models.Sequential([\n",
    "    keras.layers.Conv2D(64,(3,3),activation='relu',input_shape=(150,150,3)),\n",
    "    keras.layers.MaxPooling2D(pool_size=(2,2)),\n",
    "    keras.layers.Flatten(),\n",
    "    keras.layers.Dense(1,activation='sigmoid')\n",
    "])"
   ]
  },
  {
   "cell_type": "code",
   "execution_count": 9,
   "metadata": {},
   "outputs": [],
   "source": [
    "model.compile(optimizer='adam',loss='binary_crossentropy',metrics=['accuracy'])"
   ]
  },
  {
   "cell_type": "code",
   "execution_count": 11,
   "metadata": {
    "scrolled": true
   },
   "outputs": [
    {
     "name": "stdout",
     "output_type": "stream",
     "text": [
      "Train for 3 steps, validate for 1 steps\n",
      "Epoch 1/20\n",
      "3/3 [==============================] - 2s 691ms/step - loss: 1.4169 - accuracy: 0.5000 - val_loss: 0.6854 - val_accuracy: 0.5000\n",
      "Epoch 2/20\n",
      "3/3 [==============================] - 2s 648ms/step - loss: 0.6737 - accuracy: 0.5694 - val_loss: 1.1359 - val_accuracy: 0.5000\n",
      "Epoch 3/20\n",
      "3/3 [==============================] - 2s 659ms/step - loss: 0.8913 - accuracy: 0.5000 - val_loss: 0.4694 - val_accuracy: 0.8500\n",
      "Epoch 4/20\n",
      "3/3 [==============================] - 2s 647ms/step - loss: 0.6247 - accuracy: 0.6806 - val_loss: 0.5504 - val_accuracy: 0.5500\n",
      "Epoch 5/20\n",
      "3/3 [==============================] - 2s 641ms/step - loss: 0.4966 - accuracy: 0.8333 - val_loss: 0.3366 - val_accuracy: 0.9500\n",
      "Epoch 6/20\n",
      "3/3 [==============================] - 2s 698ms/step - loss: 0.4898 - accuracy: 0.6806 - val_loss: 0.3001 - val_accuracy: 0.9500\n",
      "Epoch 7/20\n",
      "3/3 [==============================] - 2s 639ms/step - loss: 0.3867 - accuracy: 0.8472 - val_loss: 0.3550 - val_accuracy: 0.8000\n",
      "Epoch 8/20\n",
      "3/3 [==============================] - 2s 635ms/step - loss: 0.3665 - accuracy: 0.8750 - val_loss: 0.2947 - val_accuracy: 0.8000\n",
      "Epoch 9/20\n",
      "3/3 [==============================] - 2s 676ms/step - loss: 0.3250 - accuracy: 0.9028 - val_loss: 0.2023 - val_accuracy: 1.0000\n",
      "Epoch 10/20\n",
      "3/3 [==============================] - 2s 638ms/step - loss: 0.3030 - accuracy: 0.8750 - val_loss: 0.1763 - val_accuracy: 1.0000\n",
      "Epoch 11/20\n",
      "3/3 [==============================] - 2s 639ms/step - loss: 0.2942 - accuracy: 0.9167 - val_loss: 0.2555 - val_accuracy: 0.8500\n",
      "Epoch 12/20\n",
      "3/3 [==============================] - 2s 677ms/step - loss: 0.2540 - accuracy: 0.9167 - val_loss: 0.1359 - val_accuracy: 1.0000\n",
      "Epoch 13/20\n",
      "3/3 [==============================] - 2s 682ms/step - loss: 0.2582 - accuracy: 0.8889 - val_loss: 0.1240 - val_accuracy: 1.0000\n",
      "Epoch 14/20\n",
      "3/3 [==============================] - 2s 672ms/step - loss: 0.2449 - accuracy: 0.9028 - val_loss: 0.1713 - val_accuracy: 0.9500\n",
      "Epoch 15/20\n",
      "3/3 [==============================] - 2s 694ms/step - loss: 0.2063 - accuracy: 0.9444 - val_loss: 0.1105 - val_accuracy: 1.0000\n",
      "Epoch 16/20\n",
      "3/3 [==============================] - 2s 644ms/step - loss: 0.1716 - accuracy: 0.9444 - val_loss: 0.1176 - val_accuracy: 1.0000\n",
      "Epoch 17/20\n",
      "3/3 [==============================] - 2s 663ms/step - loss: 0.1685 - accuracy: 0.9306 - val_loss: 0.0989 - val_accuracy: 1.0000\n",
      "Epoch 18/20\n",
      "3/3 [==============================] - 2s 642ms/step - loss: 0.1341 - accuracy: 0.9583 - val_loss: 0.1131 - val_accuracy: 1.0000\n",
      "Epoch 19/20\n",
      "3/3 [==============================] - 2s 666ms/step - loss: 0.1698 - accuracy: 0.9583 - val_loss: 0.1101 - val_accuracy: 0.9500\n",
      "Epoch 20/20\n",
      "3/3 [==============================] - 2s 656ms/step - loss: 0.1105 - accuracy: 0.9722 - val_loss: 0.0912 - val_accuracy: 1.0000\n"
     ]
    },
    {
     "data": {
      "text/plain": [
       "<tensorflow.python.keras.callbacks.History at 0x7f85bd550890>"
      ]
     },
     "execution_count": 11,
     "metadata": {},
     "output_type": "execute_result"
    }
   ],
   "source": [
    "model.fit(train_generator,epochs=20,validation_data=validation_generator)"
   ]
  },
  {
   "cell_type": "code",
   "execution_count": 30,
   "metadata": {},
   "outputs": [
    {
     "name": "stdout",
     "output_type": "stream",
     "text": [
      "This is a rural area picture\n"
     ]
    }
   ],
   "source": [
    "image = keras.preprocessing.image.load_img('ruraltest.jpeg',target_size=(150,150,3))\n",
    "input_arr = keras.preprocessing.image.img_to_array(image)\n",
    "input_arr = np.array([input_arr])\n",
    "model.predict(input_arr)\n",
    "if model.predict(input_arr)==0:\n",
    "    print('This is a rural area picture')\n",
    "else:\n",
    "    print('This is a urban area picture')"
   ]
  },
  {
   "cell_type": "code",
   "execution_count": 31,
   "metadata": {},
   "outputs": [
    {
     "name": "stdout",
     "output_type": "stream",
     "text": [
      "This is a rural area picture\n"
     ]
    }
   ],
   "source": [
    "image = keras.preprocessing.image.load_img('ruraltest2.jpeg',target_size=(150,150,3))\n",
    "input_arr = keras.preprocessing.image.img_to_array(image)\n",
    "input_arr = np.array([input_arr])\n",
    "model.predict(input_arr)\n",
    "if model.predict(input_arr)==0:\n",
    "    print('This is a rural area picture')\n",
    "else:\n",
    "    print('This is a urban area picture')"
   ]
  },
  {
   "cell_type": "code",
   "execution_count": 29,
   "metadata": {},
   "outputs": [
    {
     "name": "stdout",
     "output_type": "stream",
     "text": [
      "This is a rural area picture\n"
     ]
    }
   ],
   "source": [
    "image = keras.preprocessing.image.load_img('ruraltest3.jpeg',target_size=(150,150,3))\n",
    "input_arr = keras.preprocessing.image.img_to_array(image)\n",
    "input_arr = np.array([input_arr])\n",
    "model.predict(input_arr)\n",
    "if model.predict(input_arr)==0:\n",
    "    print('This is a rural area picture')\n",
    "else:\n",
    "    print('This is a urban area picture')"
   ]
  },
  {
   "cell_type": "code",
   "execution_count": 32,
   "metadata": {},
   "outputs": [
    {
     "name": "stdout",
     "output_type": "stream",
     "text": [
      "This is a urban area picture\n"
     ]
    }
   ],
   "source": [
    "image = keras.preprocessing.image.load_img('urbantest.jpeg',target_size=(150,150,3))\n",
    "input_arr = keras.preprocessing.image.img_to_array(image)\n",
    "input_arr = np.array([input_arr])\n",
    "model.predict(input_arr)\n",
    "if model.predict(input_arr)==0:\n",
    "    print('This is a rural area picture')\n",
    "else:\n",
    "    print('This is a urban area picture')"
   ]
  },
  {
   "cell_type": "code",
   "execution_count": 33,
   "metadata": {},
   "outputs": [
    {
     "name": "stdout",
     "output_type": "stream",
     "text": [
      "This is a urban area picture\n"
     ]
    }
   ],
   "source": [
    "image = keras.preprocessing.image.load_img('urbantest2.jpeg',target_size=(150,150,3))\n",
    "input_arr = keras.preprocessing.image.img_to_array(image)\n",
    "input_arr = np.array([input_arr])\n",
    "model.predict(input_arr)\n",
    "if model.predict(input_arr)==0:\n",
    "    print('This is a rural area picture')\n",
    "else:\n",
    "    print('This is a urban area picture')"
   ]
  },
  {
   "cell_type": "code",
   "execution_count": 34,
   "metadata": {},
   "outputs": [
    {
     "name": "stdout",
     "output_type": "stream",
     "text": [
      "This is a urban area picture\n"
     ]
    }
   ],
   "source": [
    "image = keras.preprocessing.image.load_img('urbantest3.jpeg',target_size=(150,150,3))\n",
    "input_arr = keras.preprocessing.image.img_to_array(image)\n",
    "input_arr = np.array([input_arr])\n",
    "model.predict(input_arr)\n",
    "if model.predict(input_arr)==0:\n",
    "    print('This is a rural area picture')\n",
    "else:\n",
    "    print('This is a urban area picture')"
   ]
  },
  {
   "cell_type": "code",
   "execution_count": null,
   "metadata": {},
   "outputs": [],
   "source": []
  }
 ],
 "metadata": {
  "kernelspec": {
   "display_name": "Python 3",
   "language": "python",
   "name": "python3"
  },
  "language_info": {
   "codemirror_mode": {
    "name": "ipython",
    "version": 3
   },
   "file_extension": ".py",
   "mimetype": "text/x-python",
   "name": "python",
   "nbconvert_exporter": "python",
   "pygments_lexer": "ipython3",
   "version": "3.7.6"
  }
 },
 "nbformat": 4,
 "nbformat_minor": 4
}
